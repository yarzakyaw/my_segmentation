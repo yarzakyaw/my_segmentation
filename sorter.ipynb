{
 "cells": [
  {
   "cell_type": "code",
   "execution_count": 1,
   "id": "ff320321",
   "metadata": {},
   "outputs": [],
   "source": [
    "import json\n",
    "\n",
    "def sort_json_alphabetically(file_path, output_file=None):\n",
    "    try:\n",
    "        # Read JSON file with UTF-8 encoding\n",
    "        with open(file_path, 'r', encoding='utf-8') as file:\n",
    "            data = json.load(file)\n",
    "\n",
    "        # Ensure the input is a dictionary\n",
    "        if not isinstance(data, dict):\n",
    "            raise ValueError(\"JSON root must be an object (dictionary)\")\n",
    "\n",
    "        # Sort keys alphabetically (case-insensitive)\n",
    "        sorted_keys = sorted(data.keys(), key=lambda x: x.lower())\n",
    "\n",
    "        # Create a new dictionary with sorted keys\n",
    "        sorted_data = {key: data[key] for key in sorted_keys}\n",
    "\n",
    "        # If output_file is specified, save to file with UTF-8 encoding\n",
    "        if output_file:\n",
    "            with open(output_file, 'w', encoding='utf-8') as file:\n",
    "                json.dump(sorted_data, file, indent=4, ensure_ascii=False)\n",
    "            print(f\"Sorted JSON saved to {output_file}\")\n",
    "        else:\n",
    "            # Print the sorted JSON\n",
    "            print(json.dumps(sorted_data, indent=4, ensure_ascii=False))\n",
    "\n",
    "        return sorted_data\n",
    "\n",
    "    except FileNotFoundError:\n",
    "        print(f\"Error: File '{file_path}' not found\")\n",
    "    except json.JSONDecodeError:\n",
    "        print(\"Error: Invalid JSON format\")\n",
    "    except Exception as e:\n",
    "        print(f\"Error: {str(e)}\")"
   ]
  },
  {
   "cell_type": "code",
   "execution_count": 2,
   "id": "4b50843d",
   "metadata": {},
   "outputs": [],
   "source": [
    "def sort_json_by_length(file_path, output_file=None):\n",
    "    try:\n",
    "        # Read JSON file with UTF-8 encoding\n",
    "        with open(file_path, 'r', encoding='utf-8') as file:\n",
    "            data = json.load(file)\n",
    "\n",
    "        # Ensure the input is a dictionary\n",
    "        if not isinstance(data, dict):\n",
    "            raise ValueError(\"JSON root must be an object (dictionary)\")\n",
    "\n",
    "        # Sort keys by length (descending) and alphabetically (case-insensitive)\n",
    "        sorted_keys = sorted(data.keys(), key=lambda x: (-len(x), x.lower()))\n",
    "\n",
    "        # Create a new dictionary with sorted keys\n",
    "        sorted_data = {key: data[key] for key in sorted_keys}\n",
    "\n",
    "        # If output_file is specified, save to file with UTF-8 encoding\n",
    "        if output_file:\n",
    "            with open(output_file, 'w', encoding='utf-8') as file:\n",
    "                json.dump(sorted_data, file, indent=4, ensure_ascii=False)\n",
    "            print(f\"Sorted JSON saved to {output_file}\")\n",
    "        else:\n",
    "            # Print the sorted JSON\n",
    "            print(json.dumps(sorted_data, indent=4, ensure_ascii=False))\n",
    "\n",
    "        return sorted_data\n",
    "\n",
    "    except FileNotFoundError:\n",
    "        print(f\"Error: File '{file_path}' not found\")\n",
    "    except json.JSONDecodeError:\n",
    "        print(\"Error: Invalid JSON format\")\n",
    "    except Exception as e:\n",
    "        print(f\"Error: {str(e)}\")"
   ]
  },
  {
   "cell_type": "code",
   "execution_count": 9,
   "id": "4c29fd10",
   "metadata": {},
   "outputs": [
    {
     "name": "stdout",
     "output_type": "stream",
     "text": [
      "Sorted JSON saved to temp_sorted.json\n"
     ]
    },
    {
     "data": {
      "text/plain": [
       "{'ယင်းမာပင်': 'Yinmarbin',\n",
       " 'ယောင်လင်း': 'Yawng Lin',\n",
       " 'ယျောက်ျား': 'yaukkyar',\n",
       " 'ယန္တရား': '',\n",
       " 'ယသဝဍ္ဎန': '',\n",
       " 'ယုဒ္ဓယ': '',\n",
       " 'ယုဝတီ': '',\n",
       " 'ယောဂီ': '',\n",
       " 'ယျာဉ်': 'yin',\n",
       " 'ယောဂ': '',\n",
       " 'ယျဉ်': 'yin',\n",
       " 'ယုဝ': '',\n",
       " 'ယျာ': 'yar',\n",
       " 'ယသ': '',\n",
       " 'ယျ': 'ya'}"
      ]
     },
     "execution_count": 9,
     "metadata": {},
     "output_type": "execute_result"
    }
   ],
   "source": [
    "# Example usage\n",
    "sort_json_by_length('_26yapalat.json', 'temp_sorted.json')\n"
   ]
  }
 ],
 "metadata": {
  "kernelspec": {
   "display_name": "env",
   "language": "python",
   "name": "python3"
  },
  "language_info": {
   "codemirror_mode": {
    "name": "ipython",
    "version": 3
   },
   "file_extension": ".py",
   "mimetype": "text/x-python",
   "name": "python",
   "nbconvert_exporter": "python",
   "pygments_lexer": "ipython3",
   "version": "3.9.21"
  }
 },
 "nbformat": 4,
 "nbformat_minor": 5
}
