{
 "cells": [
  {
   "cell_type": "code",
   "execution_count": 1,
   "id": "ff320321",
   "metadata": {},
   "outputs": [],
   "source": [
    "import json\n",
    "\n",
    "def sort_json_alphabetically(file_path, output_file=None):\n",
    "    try:\n",
    "        # Read JSON file with UTF-8 encoding\n",
    "        with open(file_path, 'r', encoding='utf-8') as file:\n",
    "            data = json.load(file)\n",
    "\n",
    "        # Ensure the input is a dictionary\n",
    "        if not isinstance(data, dict):\n",
    "            raise ValueError(\"JSON root must be an object (dictionary)\")\n",
    "\n",
    "        # Sort keys alphabetically (case-insensitive)\n",
    "        sorted_keys = sorted(data.keys(), key=lambda x: x.lower())\n",
    "\n",
    "        # Create a new dictionary with sorted keys\n",
    "        sorted_data = {key: data[key] for key in sorted_keys}\n",
    "\n",
    "        # If output_file is specified, save to file with UTF-8 encoding\n",
    "        if output_file:\n",
    "            with open(output_file, 'w', encoding='utf-8') as file:\n",
    "                json.dump(sorted_data, file, indent=4, ensure_ascii=False)\n",
    "            print(f\"Sorted JSON saved to {output_file}\")\n",
    "        else:\n",
    "            # Print the sorted JSON\n",
    "            print(json.dumps(sorted_data, indent=4, ensure_ascii=False))\n",
    "\n",
    "        return sorted_data\n",
    "\n",
    "    except FileNotFoundError:\n",
    "        print(f\"Error: File '{file_path}' not found\")\n",
    "    except json.JSONDecodeError:\n",
    "        print(\"Error: Invalid JSON format\")\n",
    "    except Exception as e:\n",
    "        print(f\"Error: {str(e)}\")"
   ]
  },
  {
   "cell_type": "code",
   "execution_count": 2,
   "id": "4b50843d",
   "metadata": {},
   "outputs": [],
   "source": [
    "def sort_json_by_length(file_path, output_file=None):\n",
    "    try:\n",
    "        # Read JSON file with UTF-8 encoding\n",
    "        with open(file_path, 'r', encoding='utf-8') as file:\n",
    "            data = json.load(file)\n",
    "\n",
    "        # Ensure the input is a dictionary\n",
    "        if not isinstance(data, dict):\n",
    "            raise ValueError(\"JSON root must be an object (dictionary)\")\n",
    "\n",
    "        # Sort keys by length (descending) and alphabetically (case-insensitive)\n",
    "        sorted_keys = sorted(data.keys(), key=lambda x: (-len(x), x.lower()))\n",
    "\n",
    "        # Create a new dictionary with sorted keys\n",
    "        sorted_data = {key: data[key] for key in sorted_keys}\n",
    "\n",
    "        # If output_file is specified, save to file with UTF-8 encoding\n",
    "        if output_file:\n",
    "            with open(output_file, 'w', encoding='utf-8') as file:\n",
    "                json.dump(sorted_data, file, indent=4, ensure_ascii=False)\n",
    "            print(f\"Sorted JSON saved to {output_file}\")\n",
    "        else:\n",
    "            # Print the sorted JSON\n",
    "            print(json.dumps(sorted_data, indent=4, ensure_ascii=False))\n",
    "\n",
    "        return sorted_data\n",
    "\n",
    "    except FileNotFoundError:\n",
    "        print(f\"Error: File '{file_path}' not found\")\n",
    "    except json.JSONDecodeError:\n",
    "        print(\"Error: Invalid JSON format\")\n",
    "    except Exception as e:\n",
    "        print(f\"Error: {str(e)}\")"
   ]
  },
  {
   "cell_type": "code",
   "execution_count": 5,
   "id": "4c29fd10",
   "metadata": {},
   "outputs": [
    {
     "name": "stdout",
     "output_type": "stream",
     "text": [
      "Sorted JSON saved to temp_sorted.json\n"
     ]
    },
    {
     "data": {
      "text/plain": [
       "{'ရေနံချောင်း': 'Yenangyaung',\n",
       " 'ရေဗက္ကာဝင်း': '',\n",
       " 'ရွှေပြည်အေး': 'Shwe Pyi Aye',\n",
       " 'ရွှေသောင်ယံ': 'hwethaungyan',\n",
       " 'ရှမ်းရွာသစ်': 'Shan Ywar Thit',\n",
       " 'ရိခေါ်ဒါရ်': 'Rihkhawdar',\n",
       " 'ရွှေပြည်သာ': 'Shwepyithar',\n",
       " 'ရှင်ဗွေယန်': 'Shin Bawy Yang',\n",
       " 'ရမည်းသင်း': 'Yamethin',\n",
       " 'ရသေ့တောင်': 'Rathedaung',\n",
       " 'ရွှေညောင်': 'Shwenyaung',\n",
       " 'ရွှေတောင်': 'Shwedaung',\n",
       " 'ရပ်စောက်': 'Lawksawk',\n",
       " 'ရာဇောဝါဒ': 'rarzawwwarda',\n",
       " 'ရေတာရှည်': 'Yedashe',\n",
       " 'ရွှေကျင်': 'Shwegyin',\n",
       " 'ရင်ဖန့်': 'Yin Pang',\n",
       " 'ရဋ္ဌသာရ': 'yathtatharra',\n",
       " 'ရန်ကင်း': 'Yankin',\n",
       " 'ရန်ကုန်': 'Yangon',\n",
       " 'ရမ်းဗြဲ': 'Ramree',\n",
       " 'ရေစကြို': 'Yesagyo',\n",
       " 'ရွှေဘို': 'Shwebo',\n",
       " 'ရှားတော': 'Shadaw',\n",
       " 'ရခိုင်': 'rakhaing',\n",
       " 'ရင်ဂို': 'ringo',\n",
       " 'ရာဇသတ်': '',\n",
       " 'ရေကြည်': 'Yegyi',\n",
       " 'ရွာသစ်': 'Ywarthit',\n",
       " 'ရွှေကူ': 'shwegu',\n",
       " 'ရာဇော': 'rarzaww',\n",
       " 'ရေဇွာ': 'Rezua',\n",
       " 'ရေဖြူ': 'Yebyu',\n",
       " 'ရေဝတီ': '',\n",
       " 'ရွာငံ': 'Ywangan',\n",
       " 'ရတနာ': '',\n",
       " 'ရာဇာ': '',\n",
       " 'ရာဟု': '',\n",
       " 'ရူပါ': '',\n",
       " 'ရေနီ': 'Yae Ni',\n",
       " 'ရေဦး': 'Ye-U',\n",
       " 'ရတန': '',\n",
       " 'ရတီ': '',\n",
       " 'ရာဇ': 'rarza',\n",
       " 'ရာမ': '',\n",
       " 'ရူပ': '',\n",
       " 'ရေး': 'Ye',\n",
       " 'ရသ': 'ratha'}"
      ]
     },
     "execution_count": 5,
     "metadata": {},
     "output_type": "execute_result"
    }
   ],
   "source": [
    "# Example usage\n",
    "sort_json_by_length('_27yakauk.json', 'temp_sorted.json')\n"
   ]
  }
 ],
 "metadata": {
  "kernelspec": {
   "display_name": "env",
   "language": "python",
   "name": "python3"
  },
  "language_info": {
   "codemirror_mode": {
    "name": "ipython",
    "version": 3
   },
   "file_extension": ".py",
   "mimetype": "text/x-python",
   "name": "python",
   "nbconvert_exporter": "python",
   "pygments_lexer": "ipython3",
   "version": "3.9.21"
  }
 },
 "nbformat": 4,
 "nbformat_minor": 5
}
