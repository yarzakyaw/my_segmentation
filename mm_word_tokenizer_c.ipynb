{
 "cells": [
  {
   "cell_type": "code",
   "execution_count": 1,
   "id": "37195098",
   "metadata": {},
   "outputs": [],
   "source": [
    "from collections import defaultdict, Counter\n",
    "import re\n",
    "from typing import List, Tuple, Dict"
   ]
  },
  {
   "cell_type": "code",
   "execution_count": 2,
   "id": "a4e8c09e",
   "metadata": {},
   "outputs": [],
   "source": [
    "class SyllableBPE:\n",
    "    def __init__(self, num_merges: int = 1000):\n",
    "        self.num_merges = num_merges\n",
    "        self.merge_rules: List[Tuple[str, str]] = []\n",
    "        self.vocab: Dict[Tuple[str, ...], int] = {}\n",
    "\n",
    "    def get_vocab(self, corpus: List[str], syllable_segmenter) -> Dict[Tuple[str, ...], int]:\n",
    "        vocab = Counter()\n",
    "        for line in corpus:\n",
    "            syllables = syllable_segmenter(line)\n",
    "            word = tuple(syllables + ['</w>'])  # Use end-of-word marker\n",
    "            vocab[word] += 1\n",
    "        return vocab\n",
    "\n",
    "    def get_pair_freqs(self, vocab: Dict[Tuple[str, ...], int]) -> Dict[Tuple[str, str], int]:\n",
    "        pairs = defaultdict(int)\n",
    "        for word, freq in vocab.items():\n",
    "            for i in range(len(word) - 1):\n",
    "                pairs[(word[i], word[i + 1])] += freq\n",
    "        return pairs\n",
    "\n",
    "    def merge_vocab(self, pair_to_merge: Tuple[str, str], vocab: Dict[Tuple[str, ...], int]) -> Dict[Tuple[str, ...], int]:\n",
    "        pattern = re.compile(r'(?<!\\S)' + re.escape(pair_to_merge[0]) + r'\\s+' + re.escape(pair_to_merge[1]) + r'(?!\\S)')\n",
    "        new_vocab = {}\n",
    "        for word, freq in vocab.items():\n",
    "            word_str = ' '.join(word)\n",
    "            new_word_str = pattern.sub(pair_to_merge[0] + pair_to_merge[1], word_str)\n",
    "            new_word = tuple(new_word_str.split())\n",
    "            new_vocab[new_word] = freq\n",
    "        return new_vocab\n",
    "\n",
    "    def train(self, corpus: List[str], syllable_segmenter):\n",
    "        self.vocab = self.get_vocab(corpus, syllable_segmenter)\n",
    "        for _ in range(self.num_merges):\n",
    "            pairs = self.get_pair_freqs(self.vocab)\n",
    "            if not pairs:\n",
    "                break\n",
    "            best_pair = max(pairs, key=pairs.get)\n",
    "            self.merge_rules.append(best_pair)\n",
    "            self.vocab = self.merge_vocab(best_pair, self.vocab)\n",
    "\n",
    "    def encode(self, text: str, syllable_segmenter) -> List[str]:\n",
    "        syllables = syllable_segmenter(text) + ['</w>']\n",
    "        tokens = list(syllables)\n",
    "        for a, b in self.merge_rules:\n",
    "            i = 0\n",
    "            while i < len(tokens) - 1:\n",
    "                if tokens[i] == a and tokens[i + 1] == b:\n",
    "                    tokens[i:i+2] = [a + b]\n",
    "                else:\n",
    "                    i += 1\n",
    "        return tokens"
   ]
  },
  {
   "cell_type": "code",
   "execution_count": 7,
   "id": "7278bc74",
   "metadata": {},
   "outputs": [
    {
     "name": "stdout",
     "output_type": "stream",
     "text": [
      "['ပညာရေးဝန်ကြီးဌာနသည်အထက်တန်းကျောင်းများတွင်သင်ကြားမှုအတွက်သင်ကြားရေးအထောက်အကူပြုစာအုပ်များကိုထုတ်ဝေခဲ့သည်</w>']\n"
     ]
    }
   ],
   "source": [
    "# Sample Burmese corpus (as space-separated sentences)\n",
    "corpus = [\n",
    "    \"ပ ညာ ရေး ဝန် ကြီး ဌာ န သည် အ ထက် တန်း ကျောင်း များ တွင် သင် ကြား မှု အ တွက် သင် ကြား ရေး အ ထောက် အ ကူ ပြု စာ အုပ် များ ကို ထုတ် ဝေ ခဲ့ သည်\", \n",
    "    \"တော် လှန် ရေး အ ထောက် အ ကူ အ တွက် သင် ကြား သည်\",\n",
    "    \"ဗိုလ် ချုပ် က တော် ကောက် သည်\",\n",
    "]\n",
    "\n",
    "# Dummy syllable segmenter (replace with your real one)\n",
    "def syllable_segmenter(text):\n",
    "    return text.split()\n",
    "\n",
    "# Train BPE model\n",
    "bpe = SyllableBPE(num_merges=50)\n",
    "bpe.train(corpus, syllable_segmenter)\n",
    "\n",
    "# Encode a new sentence\n",
    "encoded = bpe.encode(\"ပ ညာ ရေး ဝန် ကြီး ဌာ န သည် အ ထက် တန်း ကျောင်း များ တွင် သင် ကြား မှု အ တွက် သင် ကြား ရေး အ ထောက် အ ကူ ပြု စာ အုပ် များ ကို ထုတ် ဝေ ခဲ့ သည်\", syllable_segmenter)\n",
    "print(encoded)  # Output: merged tokens based on BPE"
   ]
  }
 ],
 "metadata": {
  "kernelspec": {
   "display_name": "env",
   "language": "python",
   "name": "python3"
  },
  "language_info": {
   "codemirror_mode": {
    "name": "ipython",
    "version": 3
   },
   "file_extension": ".py",
   "mimetype": "text/x-python",
   "name": "python",
   "nbconvert_exporter": "python",
   "pygments_lexer": "ipython3",
   "version": "3.9.21"
  }
 },
 "nbformat": 4,
 "nbformat_minor": 5
}
